{
  "cells": [
    {
      "cell_type": "code",
      "metadata": {
        "jukit_cell_id": "NONE"
      },
      "source": [
        "-- install plugins\n",
        "lvim.plugins = {\n",
        "  \"ChristianChiarulli/swenv.nvim\",\n",
        "  \"stevearc/dressing.nvim\",\n",
        "  \"mfussenegger/nvim-dap-python\",\n",
        "  \"luk400/vim-jukit\",\n",
        "  'nvim-lua/plenary.nvim',\n",
        "  'nvim-treesitter/nvim-treesitter',\n",
        "  'antoinemadec/FixCursorHold.nvim',\n",
        "  'nvim-neotest/neotest',\n",
        "  'aserowy/tmux.nvim'\n",
        "}\n",
        "\n",
        "\n",
        "\n",
        "-- automatically install python syntax highlighting\n",
        "lvim.builtin.treesitter.ensure_installed = {\n",
        "  \"python\",\n",
        "}\n",
        "\n",
        "-- setup formatting\n",
        "local formatters = require \"lvim.lsp.null-ls.formatters\"\n",
        "formatters.setup { { name = \"black\" }, }\n",
        "lvim.format_on_save.enabled = true\n",
        "lvim.format_on_save.pattern = { \"*.py\" }\n",
        "\n",
        "-- setup linting\n",
        "local linters = require \"lvim.lsp.null-ls.linters\"\n",
        "linters.setup { { command = \"flake8\", filetypes = { \"python\" } } }\n",
        "\n",
        "-- setup debug adapter\n",
        "lvim.builtin.dap.active = true\n",
        "local mason_path = vim.fn.glob(vim.fn.stdpath \"data\" .. \"/mason/\")\n",
        "pcall(function()\n",
        "  require(\"dap-python\").setup(mason_path .. \"packages/debugpy/venv/bin/python\")\n",
        "end)\n",
        "\n",
        "-- binding for switching\n",
        "lvim.builtin.which_key.mappings[\"C\"] = {\n",
        "  name = \"Python\",\n",
        "  c = { \"<cmd>lua require('swenv.api').pick_venv()<cr>\", \"Choose Env\" },\n",
        "}\n",
        "\n",
        "-- vim settings\n",
        "vim.cmd([[set relativenumber]])"
      ],
      "outputs": [],
      "execution_count": null
    }
  ],
  "metadata": {
    "anaconda-cloud": {},
    "kernelspec": {
      "display_name": "lua",
      "language": "lua",
      "name": "lua"
    }
  },
  "nbformat": 4,
  "nbformat_minor": 4
}